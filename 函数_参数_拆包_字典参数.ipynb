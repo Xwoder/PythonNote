{
 "cells": [
  {
   "cell_type": "code",
   "execution_count": 1,
   "outputs": [],
   "source": [
    "def desc(name, age, gender):\n",
    "    print(f'name: {name}, age: {age}, gender: {gender}')"
   ],
   "metadata": {
    "collapsed": false,
    "pycharm": {
     "name": "#%%\n"
    }
   }
  },
  {
   "cell_type": "code",
   "execution_count": 5,
   "outputs": [
    {
     "name": "stdout",
     "output_type": "stream",
     "text": [
      "name: Jack, age: 18, gender: Male\n"
     ]
    }
   ],
   "source": [
    "desc('Jack', 18, 'Male')"
   ],
   "metadata": {
    "collapsed": false,
    "pycharm": {
     "name": "#%%\n"
    }
   }
  },
  {
   "cell_type": "code",
   "execution_count": 10,
   "outputs": [
    {
     "name": "stdout",
     "output_type": "stream",
     "text": [
      "name: Jack, age: 18, gender: Male\n",
      "name: Jack, age: 18, gender: Male\n",
      "name: Jack, age: 18, gender: Male\n",
      "name: Jack, age: 18, gender: Male\n"
     ]
    }
   ],
   "source": [
    "dict_jack = {\n",
    "    'name': 'Jack',\n",
    "    'age': 18,\n",
    "    'gender': 'Male'\n",
    "}\n",
    "\n",
    "desc(dict_jack['name'], dict_jack['age'], dict_jack['gender'])\n",
    "desc(name=dict_jack['name'], age=dict_jack['age'], gender=dict_jack['gender'])\n",
    "desc(name='Jack', age=18, gender='Male')\n",
    "desc(**dict_jack)"
   ],
   "metadata": {
    "collapsed": false,
    "pycharm": {
     "name": "#%%\n"
    }
   }
  },
  {
   "cell_type": "code",
   "execution_count": null,
   "outputs": [],
   "source": [],
   "metadata": {
    "collapsed": false,
    "pycharm": {
     "name": "#%%\n"
    }
   }
  }
 ],
 "metadata": {
  "kernelspec": {
   "display_name": "Python 3",
   "language": "python",
   "name": "python3"
  },
  "language_info": {
   "codemirror_mode": {
    "name": "ipython",
    "version": 3
   },
   "file_extension": ".py",
   "mimetype": "text/x-python",
   "name": "python",
   "nbconvert_exporter": "python",
   "pygments_lexer": "ipython3",
   "version": "3.8.2"
  },
  "toc": {
   "base_numbering": 1,
   "nav_menu": {},
   "number_sections": true,
   "sideBar": true,
   "skip_h1_title": true,
   "title_cell": "Table of Contents",
   "title_sidebar": "Contents",
   "toc_cell": false,
   "toc_position": {},
   "toc_section_display": true,
   "toc_window_display": false
  }
 },
 "nbformat": 4,
 "nbformat_minor": 1
}