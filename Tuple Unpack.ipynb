{
 "cells": [
  {
   "cell_type": "code",
   "execution_count": 10,
   "outputs": [
    {
     "name": "stdout",
     "output_type": "stream",
     "text": [
      "code: 200, message: OK\n"
     ]
    }
   ],
   "source": [
    "code, message = (200, 'OK')\n",
    "\n",
    "print(f'code: {code}, message: {message}')"
   ],
   "metadata": {
    "collapsed": false,
    "pycharm": {
     "name": "#%%\n"
    }
   }
  },
  {
   "cell_type": "code",
   "execution_count": 11,
   "outputs": [
    {
     "name": "stdout",
     "output_type": "stream",
     "text": [
      "code: 200\n"
     ]
    }
   ],
   "source": [
    "code, _ = (200, 'OK')\n",
    "\n",
    "print(f'code: {code}')"
   ],
   "metadata": {
    "collapsed": false,
    "pycharm": {
     "name": "#%%\n"
    }
   }
  },
  {
   "cell_type": "code",
   "execution_count": 12,
   "outputs": [
    {
     "name": "stdout",
     "output_type": "stream",
     "text": [
      "message: OK\n"
     ]
    }
   ],
   "source": [
    "_, message = (200, 'OK')\n",
    "\n",
    "print(f'message: {message}')"
   ],
   "metadata": {
    "collapsed": false,
    "pycharm": {
     "name": "#%%\n"
    }
   }
  },
  {
   "cell_type": "code",
   "execution_count": 13,
   "outputs": [
    {
     "name": "stdout",
     "output_type": "stream",
     "text": [
      "a:10, b: 20, last: [30, 40, 50, 60]\n"
     ]
    }
   ],
   "source": [
    "a, b, *last = (10, 20, 30, 40, 50, 60)\n",
    "\n",
    "print(f'a:{a}, b: {b}, last: {last}')"
   ],
   "metadata": {
    "collapsed": false,
    "pycharm": {
     "name": "#%%\n"
    }
   }
  },
  {
   "cell_type": "code",
   "execution_count": 14,
   "outputs": [
    {
     "name": "stdout",
     "output_type": "stream",
     "text": [
      "a:10, b: 20\n"
     ]
    }
   ],
   "source": [
    "a, b, *_ = (10, 20, 30, 40, 50, 60)\n",
    "\n",
    "print(f'a:{a}, b: {b}')"
   ],
   "metadata": {
    "collapsed": false,
    "pycharm": {
     "name": "#%%\n"
    }
   }
  },
  {
   "cell_type": "code",
   "execution_count": 15,
   "outputs": [
    {
     "name": "stdout",
     "output_type": "stream",
     "text": [
      "last: [30, 40, 50, 60]\n"
     ]
    }
   ],
   "source": [
    "_, _, *last = (10, 20, 30, 40, 50, 60)\n",
    "\n",
    "print(f'last: {last}')"
   ],
   "metadata": {
    "collapsed": false,
    "pycharm": {
     "name": "#%%\n"
    }
   }
  }
 ],
 "metadata": {
  "kernelspec": {
   "display_name": "Python 3",
   "language": "python",
   "name": "python3"
  },
  "language_info": {
   "codemirror_mode": {
    "name": "ipython",
    "version": 2
   },
   "file_extension": ".py",
   "mimetype": "text/x-python",
   "name": "python",
   "nbconvert_exporter": "python",
   "pygments_lexer": "ipython2",
   "version": "2.7.6"
  }
 },
 "nbformat": 4,
 "nbformat_minor": 0
}