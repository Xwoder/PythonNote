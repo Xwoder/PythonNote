{
 "cells": [
  {
   "cell_type": "markdown",
   "source": [
    "# Dog"
   ],
   "metadata": {
    "collapsed": false,
    "pycharm": {
     "name": "#%% md\n"
    }
   }
  },
  {
   "cell_type": "code",
   "execution_count": 12,
   "metadata": {
    "collapsed": true,
    "pycharm": {
     "name": "#%%\n"
    }
   },
   "outputs": [],
   "source": [
    "class Dog():\n",
    "\n",
    "    def __init__(self, name, age):\n",
    "        self.name = name\n",
    "        self.age = age\n",
    "\n",
    "    def eat(self, food):\n",
    "        print(f'{self.name} eat {food}.')\n",
    "\n",
    "    def bark(self):\n",
    "        print(f'{self.name} bark.')"
   ]
  },
  {
   "cell_type": "code",
   "execution_count": 13,
   "outputs": [
    {
     "name": "stdout",
     "output_type": "stream",
     "text": [
      "Wangwang eat meat.\n",
      "Wangwang eat meat.\n",
      "Wangwang bark.\n",
      "Wangwang bark.\n"
     ]
    }
   ],
   "source": [
    "d1 = Dog('Wangwang', 3)\n",
    "d1.eat('meat')\n",
    "Dog.eat(d1, 'meat')\n",
    "d1.bark()\n",
    "Dog.bark(d1)"
   ],
   "metadata": {
    "collapsed": false,
    "pycharm": {
     "name": "#%%\n"
    }
   }
  },
  {
   "cell_type": "code",
   "execution_count": 14,
   "outputs": [
    {
     "name": "stdout",
     "output_type": "stream",
     "text": [
      "Wangwang eat meat.\n",
      "Wangwang eat meat.\n",
      "Wangwang bark.\n",
      "Wangwang bark.\n"
     ]
    }
   ],
   "source": [
    "d2 = Dog(name='Wangwang', age=5)\n",
    "d2.eat('meat')\n",
    "Dog.eat(d2, 'meat')\n",
    "d2.bark()\n",
    "Dog.bark(d2)"
   ],
   "metadata": {
    "collapsed": false,
    "pycharm": {
     "name": "#%%\n"
    }
   }
  }
 ],
 "metadata": {
  "kernelspec": {
   "display_name": "Python 3 (ipykernel)",
   "language": "python",
   "name": "python3"
  },
  "language_info": {
   "codemirror_mode": {
    "name": "ipython",
    "version": 3
   },
   "file_extension": ".py",
   "mimetype": "text/x-python",
   "name": "python",
   "nbconvert_exporter": "python",
   "pygments_lexer": "ipython3",
   "version": "3.9.7"
  }
 },
 "nbformat": 4,
 "nbformat_minor": 1
}