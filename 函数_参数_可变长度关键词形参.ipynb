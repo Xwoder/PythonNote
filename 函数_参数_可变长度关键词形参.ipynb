{
 "cells": [
  {
   "cell_type": "code",
   "execution_count": 7,
   "metadata": {
    "pycharm": {
     "name": "#%%\n"
    }
   },
   "outputs": [],
   "source": [
    "def info(name, **kwargs):\n",
    "    print(f'name = {name}, kwargs = {kwargs}')"
   ]
  },
  {
   "cell_type": "code",
   "execution_count": 8,
   "metadata": {
    "pycharm": {
     "name": "#%%\n"
    }
   },
   "outputs": [
    {
     "name": "stdout",
     "output_type": "stream",
     "text": [
      "name = 上证指数, kwargs = {'open': 3530.49, 'close': 3539.12}\n"
     ]
    }
   ],
   "source": [
    "info('上证指数', open=3530.49, close=3539.12)"
   ]
  },
  {
   "cell_type": "code",
   "execution_count": 9,
   "outputs": [
    {
     "name": "stdout",
     "output_type": "stream",
     "text": [
      "name = 上证指数, kwargs = {'open': 3530.49, 'close': 3539.12, 'low': 3529.12, 'high': 3540.12}\n"
     ]
    }
   ],
   "source": [
    "info('上证指数', open=3530.49, close=3539.12, low=3529.12, high=3540.12)"
   ],
   "metadata": {
    "collapsed": false,
    "pycharm": {
     "name": "#%%\n"
    }
   }
  },
  {
   "cell_type": "markdown",
   "metadata": {
    "pycharm": {
     "name": "#%% md\n"
    }
   },
   "source": [
    "可以结合参数拆包特性，按照如下方式使用"
   ]
  },
  {
   "cell_type": "code",
   "execution_count": 10,
   "metadata": {
    "pycharm": {
     "name": "#%%\n"
    }
   },
   "outputs": [
    {
     "name": "stdout",
     "output_type": "stream",
     "text": [
      "name = 上证指数, kwargs = {'open': 3530.49, 'close': 3539.12}\n"
     ]
    }
   ],
   "source": [
    "info_dict = {\n",
    "    'open': 3530.49,\n",
    "    'close': 3539.12,\n",
    "}\n",
    "\n",
    "info('上证指数', **info_dict)"
   ]
  },
  {
   "cell_type": "markdown",
   "source": [
    "上例代码等价于"
   ],
   "metadata": {
    "collapsed": false,
    "pycharm": {
     "name": "#%% md\n"
    }
   }
  },
  {
   "cell_type": "code",
   "execution_count": 11,
   "metadata": {
    "pycharm": {
     "name": "#%%\n"
    }
   },
   "outputs": [
    {
     "name": "stdout",
     "output_type": "stream",
     "text": [
      "name = 上证指数, kwargs = {'open': 3530.49, 'close': 3539.12}\n"
     ]
    }
   ],
   "source": [
    "info('上证指数',\n",
    "     open=info_dict['open'],\n",
    "     close=info_dict['close'])"
   ]
  }
 ],
 "metadata": {
  "kernelspec": {
   "display_name": "Python 3",
   "language": "python",
   "name": "python3"
  },
  "language_info": {
   "codemirror_mode": {
    "name": "ipython",
    "version": 3
   },
   "file_extension": ".py",
   "mimetype": "text/x-python",
   "name": "python",
   "nbconvert_exporter": "python",
   "pygments_lexer": "ipython3",
   "version": "3.8.2"
  },
  "toc": {
   "base_numbering": 1,
   "nav_menu": {},
   "number_sections": true,
   "sideBar": true,
   "skip_h1_title": true,
   "title_cell": "Table of Contents",
   "title_sidebar": "Contents",
   "toc_cell": false,
   "toc_position": {},
   "toc_section_display": true,
   "toc_window_display": false
  }
 },
 "nbformat": 4,
 "nbformat_minor": 1
}