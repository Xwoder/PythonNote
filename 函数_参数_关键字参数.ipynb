{
 "cells": [
  {
   "cell_type": "code",
   "execution_count": 1,
   "outputs": [],
   "source": [
    "def info(name, **kwargs):\n",
    "    print(f'name = {name}, kwargs = {kwargs}')"
   ],
   "metadata": {
    "collapsed": false,
    "pycharm": {
     "name": "#%%\n"
    }
   }
  },
  {
   "cell_type": "code",
   "execution_count": 2,
   "outputs": [
    {
     "name": "stdout",
     "output_type": "stream",
     "text": [
      "name = 上证指数, kwargs = {'open': 3530.49, 'close': 3539.12}\n"
     ]
    }
   ],
   "source": [
    "info('上证指数', open=3530.49, close=3539.12)"
   ],
   "metadata": {
    "collapsed": false,
    "pycharm": {
     "name": "#%%\n"
    }
   }
  },
  {
   "cell_type": "markdown",
   "source": [
    "可以结合参数拆包特性，按照如下方式使用"
   ],
   "metadata": {
    "collapsed": false,
    "pycharm": {
     "name": "#%% md\n"
    }
   }
  },
  {
   "cell_type": "code",
   "execution_count": 3,
   "outputs": [
    {
     "name": "stdout",
     "output_type": "stream",
     "text": [
      "name = 上证指数, kwargs = {'open': 3530.49, 'close': 3539.12}\n"
     ]
    }
   ],
   "source": [
    "info_dict = {\n",
    "    'open': 3530.49,\n",
    "    'close': 3539.12,\n",
    "}\n",
    "\n",
    "info('上证指数', **info_dict)"
   ],
   "metadata": {
    "collapsed": false,
    "pycharm": {
     "name": "#%%\n"
    }
   }
  },
  {
   "cell_type": "code",
   "execution_count": 4,
   "outputs": [
    {
     "name": "stdout",
     "output_type": "stream",
     "text": [
      "name = 上证指数, kwargs = {'open': 3530.49, 'close': 3539.12}\n"
     ]
    }
   ],
   "source": [
    "info('上证指数',\n",
    "     open=info_dict['open'],\n",
    "     close=info_dict['close'])"
   ],
   "metadata": {
    "collapsed": false,
    "pycharm": {
     "name": "#%%\n"
    }
   }
  }
 ],
 "metadata": {
  "kernelspec": {
   "display_name": "Python 3",
   "language": "python",
   "name": "python3"
  },
  "language_info": {
   "codemirror_mode": {
    "name": "ipython",
    "version": 2
   },
   "file_extension": ".py",
   "mimetype": "text/x-python",
   "name": "python",
   "nbconvert_exporter": "python",
   "pygments_lexer": "ipython2",
   "version": "2.7.6"
  }
 },
 "nbformat": 4,
 "nbformat_minor": 0
}