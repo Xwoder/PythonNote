{
 "cells": [
  {
   "cell_type": "code",
   "execution_count": 93,
   "outputs": [
    {
     "data": {
      "text/plain": "bool"
     },
     "execution_count": 93,
     "metadata": {},
     "output_type": "execute_result"
    }
   ],
   "source": [
    "type(True)"
   ],
   "metadata": {
    "collapsed": false,
    "pycharm": {
     "name": "#%%\n"
    }
   }
  },
  {
   "cell_type": "code",
   "execution_count": 94,
   "outputs": [
    {
     "data": {
      "text/plain": "bool"
     },
     "execution_count": 94,
     "metadata": {},
     "output_type": "execute_result"
    }
   ],
   "source": [
    "type(False)"
   ],
   "metadata": {
    "collapsed": false,
    "pycharm": {
     "name": "#%%\n"
    }
   }
  },
  {
   "cell_type": "markdown",
   "source": [
    "0 值被视为 `False`，其余值被视为 `True`"
   ],
   "metadata": {
    "collapsed": false,
    "pycharm": {
     "name": "#%% md\n"
    }
   }
  },
  {
   "cell_type": "code",
   "execution_count": 95,
   "outputs": [
    {
     "name": "stdout",
     "output_type": "stream",
     "text": [
      "bool( 0 ): False\n",
      "bool( 0.0 ): False\n",
      "bool( 1 ): True\n",
      "bool( -1 ): True\n",
      "bool( 0.1 ): True\n",
      "bool( -0.1 ): True\n"
     ]
    }
   ],
   "source": [
    "print(f'bool( 0 ): {bool(0)}')\n",
    "print(f'bool( 0.0 ): {bool(0.0)}')\n",
    "\n",
    "print(f'bool( 1 ): {bool(1)}')\n",
    "print(f'bool( -1 ): {bool(-1)}')\n",
    "print(f'bool( 0.1 ): {bool(0.1)}')\n",
    "print(f'bool( -0.1 ): {bool(-0.1)}')"
   ],
   "metadata": {
    "collapsed": false,
    "pycharm": {
     "name": "#%%\n"
    }
   }
  },
  {
   "cell_type": "markdown",
   "source": [
    "空字符串被视为 `False` 其余值被视为 `True`"
   ],
   "metadata": {
    "collapsed": false,
    "pycharm": {
     "name": "#%% md\n"
    }
   }
  },
  {
   "cell_type": "code",
   "execution_count": 96,
   "outputs": [
    {
     "name": "stdout",
     "output_type": "stream",
     "text": [
      "bool( \"\" ): False\n",
      "bool( \"Hello World\" ): True\n",
      "bool( \" \" ): True\n"
     ]
    }
   ],
   "source": [
    "print(f'bool( \"\" ): {bool(\"\")}')\n",
    "print(f'bool( \"Hello World\" ): {bool(\"Hello World\")}')\n",
    "print(f'bool( \" \" ): {bool(\" \")}')"
   ],
   "metadata": {
    "collapsed": false,
    "pycharm": {
     "name": "#%%\n"
    }
   }
  },
  {
   "cell_type": "markdown",
   "source": [
    "空元组、空列表和空集合均被视为 False"
   ],
   "metadata": {
    "collapsed": false,
    "pycharm": {
     "name": "#%% md\n"
    }
   }
  },
  {
   "cell_type": "code",
   "execution_count": 97,
   "outputs": [
    {
     "name": "stdout",
     "output_type": "stream",
     "text": [
      "bool( tuple() ): False\n"
     ]
    }
   ],
   "source": [
    "print('bool( tuple() ): %s' % bool(tuple()))"
   ],
   "metadata": {
    "collapsed": false,
    "pycharm": {
     "name": "#%%\n"
    }
   }
  },
  {
   "cell_type": "code",
   "execution_count": 98,
   "outputs": [
    {
     "name": "stdout",
     "output_type": "stream",
     "text": [
      "bool( [] ): False\n",
      "bool( list() ): False\n"
     ]
    }
   ],
   "source": [
    "print('bool( [] ): %s' % bool([]))\n",
    "print('bool( list() ): %s' % bool(list()))"
   ],
   "metadata": {
    "collapsed": false,
    "pycharm": {
     "name": "#%%\n"
    }
   }
  },
  {
   "cell_type": "code",
   "execution_count": 99,
   "outputs": [
    {
     "name": "stdout",
     "output_type": "stream",
     "text": [
      "bool( {} ): False\n",
      "bool( dict() ): False\n"
     ]
    }
   ],
   "source": [
    "print('bool( {} ): %s' % bool({}))\n",
    "print(f'bool( dict() ): {bool(dict())}')"
   ],
   "metadata": {
    "collapsed": false,
    "pycharm": {
     "name": "#%%\n"
    }
   }
  },
  {
   "cell_type": "code",
   "execution_count": 100,
   "outputs": [
    {
     "name": "stdout",
     "output_type": "stream",
     "text": [
      "bool( set() ): False\n"
     ]
    }
   ],
   "source": [
    "print(f'bool( set() ): {bool(set())}')"
   ],
   "metadata": {
    "collapsed": false,
    "pycharm": {
     "name": "#%%\n"
    }
   }
  }
 ],
 "metadata": {
  "kernelspec": {
   "display_name": "Python 3",
   "language": "python",
   "name": "python3"
  },
  "language_info": {
   "codemirror_mode": {
    "name": "ipython",
    "version": 2
   },
   "file_extension": ".py",
   "mimetype": "text/x-python",
   "name": "python",
   "nbconvert_exporter": "python",
   "pygments_lexer": "ipython2",
   "version": "2.7.6"
  }
 },
 "nbformat": 4,
 "nbformat_minor": 0
}